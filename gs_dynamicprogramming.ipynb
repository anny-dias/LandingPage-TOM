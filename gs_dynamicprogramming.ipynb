{
  "nbformat": 4,
  "nbformat_minor": 0,
  "metadata": {
    "colab": {
      "provenance": [],
      "collapsed_sections": [
        "xxaIJJtkq12_",
        "Bpj8Etuq2tJd"
      ],
      "authorship_tag": "ABX9TyOmGoCOHHSMt9YIFr0q5IHa",
      "include_colab_link": true
    },
    "kernelspec": {
      "name": "python3",
      "display_name": "Python 3"
    },
    "language_info": {
      "name": "python"
    }
  },
  "cells": [
    {
      "cell_type": "markdown",
      "metadata": {
        "id": "view-in-github",
        "colab_type": "text"
      },
      "source": [
        "<a href=\"https://colab.research.google.com/github/anny-dias/LandingPage-TOM/blob/main/gs_dynamicprogramming.ipynb\" target=\"_parent\"><img src=\"https://colab.research.google.com/assets/colab-badge.svg\" alt=\"Open In Colab\"/></a>"
      ]
    },
    {
      "cell_type": "markdown",
      "source": [
        "# **GS Dynamic Programming**\n",
        "\n",
        "Anny Dias RM98295\n",
        "\n",
        "Henrique Lima RM551528\n",
        "\n",
        "Augusto Fisco RM98245"
      ],
      "metadata": {
        "id": "LjuiUDpAF9k7"
      }
    },
    {
      "cell_type": "markdown",
      "source": [
        "### **Case**\n",
        "\n",
        "A energia renovável desempenha um papel fundamental na luta contra as mudanças climáticas, pois oferece uma alternativa limpa e sustentável aos combustíveis fósseis, que são responsáveis pela maior parte das emissões de gases de efeito estufa. Fontes como a solar, eólica, hídrica e biomassa não emitem poluentes durante a geração de eletricidade, contribuindo para a redução da pegada de carbono global. Além disso, essas fontes são praticamente inesgotáveis, ao contrário dos combustíveis fósseis, que são finitos e se esgotarão ao longo do tempo.\n",
        "\n",
        "Além dos benefícios ambientais, a transição para a energia renovável também traz vantagens econômicas e sociais. Investir em tecnologias limpas cria novas oportunidades de emprego, desde a instalação de painéis solares até a construção de parques eólicos, e promove a independência energética, reduzindo a dependência de recursos importados. Isso fortalece a segurança energética e pode gerar uma economia mais resiliente e sustentável a longo prazo.\n"
      ],
      "metadata": {
        "id": "hKyTeoPbSKrr"
      }
    },
    {
      "cell_type": "markdown",
      "source": [
        "### **Questão 1 - Grafos**"
      ],
      "metadata": {
        "id": "hskuT_z-AzCd"
      }
    },
    {
      "cell_type": "markdown",
      "source": [
        "A primeira fase da questão 1 será localizar e importar para o python dados relevantes para a comparação de países. Vocês deverão utilizar dados descrevendo algumas variáveis de interesse (podem ser essas que eu estou mostrando, podem ser outras)\n",
        "\n",
        "* https://en.wikipedia.org/wiki/List_of_countries_and_dependencies_by_population\n",
        "* https://en.wikipedia.org/wiki/List_of_countries_by_GDP_(nominal)_per_capita\n",
        "* https://en.wikipedia.org/wiki/List_of_countries_by_carbon_dioxide_emissions\n",
        "* https://en.wikipedia.org/wiki/Nuclear_power_by_country\n",
        "* https://en.wikipedia.org/wiki/List_of_countries_by_electricity_production\n",
        "* https://en.wikipedia.org/wiki/Wind_power_by_country\n",
        "\n",
        "Os dados devem estar disponíveis no python utilizando-se:\n",
        "\n",
        "* Dicionários codificados na mão OU\n",
        "* Arquivos CSV, e funções auxiliares para a carga desses dados, que os tranformem em dicionários\n",
        "  * Isso não foi apresentado em sala, mas é bem fácil. Venha falar comigo nos horários indicados na primeira folha, se tiver alguma dificuldade.\n",
        "* Exemplo de represntação:\n",
        "{“pais”:”Brasil”, “população”: 200000000, “pib”: xxx, “porcentagem de energia eólica”: yyy, …}\n",
        "\n",
        "Vocês devem utilizar\n",
        "* Pelo menos 5 tipos de dados diferentes (exemplo: população, PIB – em inglês GDP, produção total de energia, produção de energia nuclear, produção de energia eólica)\n",
        "* Dados de pelo menos 20 países diferentes\n",
        "* Não há problema se algum dado não existir para algum país. Dados reais são assim mesmo!\n",
        "\n",
        "Baseados nos dados, criem\n",
        "* Uma árvore binária, utilizando um dos dados específicos do país para fazer a comparação entre países e decidir qual país está em qual posição da árvore\n",
        "* Funções de inserção e busca em árvores, utilizando diferentes critérios (podendo escolher, por exemplo, se a árvore vai ser baseada no PIB, na população ou no nome do país)\n",
        "\n",
        "Pontuação:\n",
        "* Os dados, representados de uma forma fácil de entender e sem erros, valem 10 pontos\n",
        "* A árvore binária específica, vale 20 pontos\n",
        "* As funções de busca e inserção valem 20 pontos, considerando se estão bem escritas – determine quais funções escrever e quais argumentos elas vão receber para atender aos critérios, te aviso que isso fará parte da avaliação!\n"
      ],
      "metadata": {
        "id": "7BafWwYwA6S1"
      }
    },
    {
      "cell_type": "code",
      "source": [
        "import pandas as pd\n",
        "\n",
        "# Carregar o arquivo CSV para inspecionar os dados\n",
        "caminho_arquivo = 'ConsumoMundialDeEnergia.csv'\n",
        "dados = pd.read_csv(caminho_arquivo)\n",
        "\n",
        "# Mostrar as primeiras linhas do arquivo para identificar as colunas e os dados\n",
        "dados.head(), dados.info()\n"
      ],
      "metadata": {
        "id": "RsBbTUsb7DAK",
        "outputId": "a9c6182a-b401-41dd-b22b-f64d437beae8",
        "colab": {
          "base_uri": "https://localhost:8080/"
        }
      },
      "execution_count": 24,
      "outputs": [
        {
          "output_type": "stream",
          "name": "stdout",
          "text": [
            "<class 'pandas.core.frame.DataFrame'>\n",
            "RangeIndex: 22012 entries, 0 to 22011\n",
            "Columns: 129 entries, country to wind_share_energy\n",
            "dtypes: float64(126), int64(1), object(2)\n",
            "memory usage: 21.7+ MB\n"
          ]
        },
        {
          "output_type": "execute_result",
          "data": {
            "text/plain": [
              "(         country  year iso_code  population  gdp  biofuel_cons_change_pct  \\\n",
              " 0  ASEAN (Ember)  2000      NaN         NaN  NaN                      NaN   \n",
              " 1  ASEAN (Ember)  2001      NaN         NaN  NaN                      NaN   \n",
              " 2  ASEAN (Ember)  2002      NaN         NaN  NaN                      NaN   \n",
              " 3  ASEAN (Ember)  2003      NaN         NaN  NaN                      NaN   \n",
              " 4  ASEAN (Ember)  2004      NaN         NaN  NaN                      NaN   \n",
              " \n",
              "    biofuel_cons_change_twh  biofuel_cons_per_capita  biofuel_consumption  \\\n",
              " 0                      NaN                      NaN                  NaN   \n",
              " 1                      NaN                      NaN                  NaN   \n",
              " 2                      NaN                      NaN                  NaN   \n",
              " 3                      NaN                      NaN                  NaN   \n",
              " 4                      NaN                      NaN                  NaN   \n",
              " \n",
              "    biofuel_elec_per_capita  ...  solar_share_elec  solar_share_energy  \\\n",
              " 0                      NaN  ...               0.0                 NaN   \n",
              " 1                      NaN  ...               0.0                 NaN   \n",
              " 2                      NaN  ...               0.0                 NaN   \n",
              " 3                      NaN  ...               0.0                 NaN   \n",
              " 4                      NaN  ...               0.0                 NaN   \n",
              " \n",
              "    wind_cons_change_pct  wind_cons_change_twh  wind_consumption  \\\n",
              " 0                   NaN                   NaN               NaN   \n",
              " 1                   NaN                   NaN               NaN   \n",
              " 2                   NaN                   NaN               NaN   \n",
              " 3                   NaN                   NaN               NaN   \n",
              " 4                   NaN                   NaN               NaN   \n",
              " \n",
              "    wind_elec_per_capita  wind_electricity  wind_energy_per_capita  \\\n",
              " 0                   NaN               0.0                     NaN   \n",
              " 1                   NaN               0.0                     NaN   \n",
              " 2                   NaN               0.0                     NaN   \n",
              " 3                   NaN               0.0                     NaN   \n",
              " 4                   NaN               0.0                     NaN   \n",
              " \n",
              "    wind_share_elec  wind_share_energy  \n",
              " 0              0.0                NaN  \n",
              " 1              0.0                NaN  \n",
              " 2              0.0                NaN  \n",
              " 3              0.0                NaN  \n",
              " 4              0.0                NaN  \n",
              " \n",
              " [5 rows x 129 columns],\n",
              " None)"
            ]
          },
          "metadata": {},
          "execution_count": 24
        }
      ]
    },
    {
      "cell_type": "code",
      "source": [
        "class No:\n",
        "    def __init__(self, pais, populacao):\n",
        "        self.pais = pais\n",
        "        self.populacao = populacao\n",
        "        self.esquerda = None\n",
        "        self.direita = None\n",
        "\n",
        "class ArvoreBinaria:\n",
        "    def __init__(self):\n",
        "        self.raiz = None\n",
        "\n",
        "    # Inserir um novo nó na árvore binária\n",
        "    def inserir(self, pais, populacao):\n",
        "        novo_no = No(pais, populacao)\n",
        "        if self.raiz is None:\n",
        "            self.raiz = novo_no\n",
        "        else:\n",
        "            self._inserir_recursivo(self.raiz, novo_no)\n",
        "\n",
        "    # Inserção recursiva na posição correta\n",
        "    def _inserir_recursivo(self, atual, novo_no):\n",
        "        if novo_no.populacao < atual.populacao:\n",
        "            if atual.esquerda is None:\n",
        "                atual.esquerda = novo_no\n",
        "            else:\n",
        "                self._inserir_recursivo(atual.esquerda, novo_no)\n",
        "        else:\n",
        "            if atual.direita is None:\n",
        "                atual.direita = novo_no\n",
        "            else:\n",
        "                self._inserir_recursivo(atual.direita, novo_no)\n",
        "\n",
        "    # Travessia em ordem (in-order) para obter os nós ordenados\n",
        "    def travessia_em_ordem(self, no, resultado=None):\n",
        "        if resultado is None:\n",
        "            resultado = []\n",
        "        if no:\n",
        "            self.travessia_em_ordem(no.esquerda, resultado)\n",
        "            resultado.append((no.pais, no.populacao))\n",
        "            self.travessia_em_ordem(no.direita, resultado)\n",
        "        return resultado\n",
        "\n",
        "\n",
        "# Filtrar os dados para remover países sem informações de população e pegar o último ano disponível\n",
        "dados_filtrados = dados[['country', 'year', 'population']].dropna()\n",
        "ultimo_ano = dados_filtrados['year'].max()\n",
        "dados_filtrados = dados_filtrados[dados_filtrados['year'] == ultimo_ano]\n",
        "\n",
        "# Criar a árvore binária e inserir os países com suas populações\n",
        "arvore_binaria = ArvoreBinaria()\n",
        "for _, linha in dados_filtrados.iterrows():\n",
        "    arvore_binaria.inserir(linha['country'], linha['population'])\n",
        "\n",
        "# Obter o resultado da travessia em ordem (in-order)\n",
        "resultado_em_ordem = arvore_binaria.travessia_em_ordem(arvore_binaria.raiz)\n",
        "print(resultado_em_ordem[:10])  # Exibir os 10 primeiros países ordenados por população\n",
        "\n"
      ],
      "metadata": {
        "id": "9HhNsjwR_DBN",
        "outputId": "3f2860dd-d5f6-48a7-bb03-84e85cb2097d",
        "colab": {
          "base_uri": "https://localhost:8080/"
        }
      },
      "execution_count": 25,
      "outputs": [
        {
          "output_type": "stream",
          "name": "stdout",
          "text": [
            "[('Iceland', 372903.0), ('Brunei', 449002.0), ('Malta', 533293.0), ('Montenegro', 627082.0), ('Luxembourg', 647601.0), ('Cyprus', 1251492.0), ('Estonia', 1326064.0), ('Bahrain', 1472237.0), ('Trinidad and Tobago', 1531043.0), ('Kosovo', 1659721.0)]\n"
          ]
        }
      ]
    },
    {
      "cell_type": "code",
      "source": [
        "class No:\n",
        "    def __init__(self, pais, valor):\n",
        "        self.pais = pais\n",
        "        self.valor = valor\n",
        "        self.esquerda = None\n",
        "        self.direita = None\n",
        "\n",
        "class ArvoreBinaria:\n",
        "    def __init__(self):\n",
        "        self.raiz = None\n",
        "\n",
        "    # Inserir um nó na árvore\n",
        "    def inserir(self, pais, valor):\n",
        "        novo_no = No(pais, valor)\n",
        "        if self.raiz is None:\n",
        "            self.raiz = novo_no\n",
        "        else:\n",
        "            self._inserir_recursivo(self.raiz, novo_no)\n",
        "\n",
        "    # Inserção recursiva\n",
        "    def _inserir_recursivo(self, atual, novo_no):\n",
        "        if novo_no.valor < atual.valor:\n",
        "            if atual.esquerda is None:\n",
        "                atual.esquerda = novo_no\n",
        "            else:\n",
        "                self._inserir_recursivo(atual.esquerda, novo_no)\n",
        "        else:\n",
        "            if atual.direita is None:\n",
        "                atual.direita = novo_no\n",
        "            else:\n",
        "                self._inserir_recursivo(atual.direita, novo_no)\n",
        "\n",
        "    # Buscar um valor na árvore\n",
        "    def buscar(self, valor):\n",
        "        return self._buscar_recursivo(self.raiz, valor)\n",
        "\n",
        "    # Busca recursiva\n",
        "    def _buscar_recursivo(self, atual, valor):\n",
        "        if atual is None:\n",
        "            return None\n",
        "        if atual.valor == valor:\n",
        "            return atual.pais\n",
        "        elif valor < atual.valor:\n",
        "            return self._buscar_recursivo(atual.esquerda, valor)\n",
        "        else:\n",
        "            return self._buscar_recursivo(atual.direita, valor)\n",
        "\n",
        "# Criar árvore com base em um critério\n",
        "def criar_arvore_com_criterio(dados, coluna_criterio):\n",
        "    arvore = ArvoreBinaria()\n",
        "    for _, linha in dados.iterrows():\n",
        "        arvore.inserir(linha['country'], linha[coluna_criterio])\n",
        "    return arvore\n",
        "\n",
        "# Filtrar dados para criar árvores\n",
        "dados_filtrados = dados[['country', 'population', 'gdp']].dropna()\n",
        "\n",
        "# Criar árvore com critério de população\n",
        "arvore_populacao = criar_arvore_com_criterio(dados_filtrados, 'population')\n",
        "# Criar árvore com critério de PIB (GDP)\n",
        "arvore_pib = criar_arvore_com_criterio(dados_filtrados, 'gdp')\n",
        "\n",
        "# Exemplos de busca\n",
        "busca_populacao = 1251492  # População para buscar\n",
        "resultado_populacao = arvore_populacao.buscar(busca_populacao)\n",
        "\n",
        "busca_pib = 647601  # PIB para buscar\n",
        "resultado_pib = arvore_pib.buscar(busca_pib)\n",
        "\n",
        "# Exibir resultados das buscas\n",
        "print(f\"País com população {busca_populacao}: {resultado_populacao}\")\n",
        "print(f\"País com PIB {busca_pib}: {resultado_pib}\")\n"
      ],
      "metadata": {
        "id": "u-kaNnHz_GGh",
        "outputId": "45d374d5-c43e-434b-927d-517a599773da",
        "colab": {
          "base_uri": "https://localhost:8080/"
        }
      },
      "execution_count": 26,
      "outputs": [
        {
          "output_type": "stream",
          "name": "stdout",
          "text": [
            "País com população 1251492: None\n",
            "País com PIB 647601: None\n"
          ]
        }
      ]
    },
    {
      "cell_type": "code",
      "source": [
        "import pandas as pd\n",
        "\n",
        "# Estrutura da árvore binária\n",
        "class NoArvore:\n",
        "    def __init__(self, dados):\n",
        "        self.dados = dados  # Dicionário com informações do país\n",
        "        self.esquerda = None  # Subárvore à esquerda\n",
        "        self.direita = None  # Subárvore à direita\n",
        "\n",
        "\n",
        "class ArvoreBinaria:\n",
        "    def __init__(self):\n",
        "        self.raiz = None\n",
        "\n",
        "    # Insere um nó na árvore com base no PIB\n",
        "    def inserir(self, dados):\n",
        "        if self.raiz is None:\n",
        "            self.raiz = NoArvore(dados)\n",
        "        else:\n",
        "            self._inserir(self.raiz, dados)\n",
        "\n",
        "    def _inserir(self, no, dados):\n",
        "        if dados[\"gdp\"] < no.dados[\"gdp\"]:\n",
        "            if no.esquerda is None:\n",
        "                no.esquerda = NoArvore(dados)\n",
        "            else:\n",
        "                self._inserir(no.esquerda, dados)\n",
        "        else:\n",
        "            if no.direita is None:\n",
        "                no.direita = NoArvore(dados)\n",
        "            else:\n",
        "                self._inserir(no.direita, dados)\n",
        "\n",
        "    # Busca um país na árvore\n",
        "    def buscar(self, pais):\n",
        "        return self._buscar(self.raiz, pais)\n",
        "\n",
        "    def _buscar(self, no, pais):\n",
        "        if no is None:\n",
        "            return None\n",
        "        if no.dados[\"country\"] == pais:\n",
        "            return no.dados\n",
        "        elif pais < no.dados[\"country\"]:\n",
        "            return self._buscar(no.esquerda, pais)\n",
        "        else:\n",
        "            return self._buscar(no.direita, pais)\n",
        "\n",
        "    # Realiza percurso em ordem (in-order)\n",
        "    def percurso_em_ordem(self, no=None, resultado=None):\n",
        "        if resultado is None:\n",
        "            resultado = []\n",
        "        if no is None:\n",
        "            no = self.raiz\n",
        "        if no.esquerda:\n",
        "            self.percurso_em_ordem(no.esquerda, resultado)\n",
        "        resultado.append(no.dados)\n",
        "        if no.direita:\n",
        "            self.percurso_em_ordem(no.direita, resultado)\n",
        "        return resultado\n",
        "\n",
        "\n",
        "# Função principal para carregar dados e criar a árvore\n",
        "def main():\n",
        "    # Carregar o arquivo CSV\n",
        "    caminho_arquivo = \"ConsumoMundialDeEnergia.csv\"  # Atualize para o caminho correto\n",
        "    dados = pd.read_csv(caminho_arquivo)\n",
        "\n",
        "    # Selecionar as colunas importantes\n",
        "    colunas_selecionadas = ['country', 'year', 'population', 'gdp', 'solar_share_elec', 'wind_share_elec']\n",
        "    dados_filtrados = dados[colunas_selecionadas]\n",
        "\n",
        "    # Filtrar para o ano mais recente\n",
        "    dados_filtrados = dados_filtrados.dropna()\n",
        "    ano_mais_recente = dados_filtrados['year'].max()\n",
        "    dados_filtrados = dados_filtrados[dados_filtrados['year'] == ano_mais_recente]\n",
        "\n",
        "    # Selecionar dados de 20 países\n",
        "    dados_filtrados = dados_filtrados.head(20)\n",
        "    dados_filtrados.reset_index(drop=True, inplace=True)\n",
        "\n",
        "    # Criar a árvore binária\n",
        "    arvore = ArvoreBinaria()\n",
        "    for _, linha in dados_filtrados.iterrows():\n",
        "        arvore.inserir(linha.to_dict())\n",
        "\n",
        "    # Exibir países em ordem crescente de PIB\n",
        "    print(\"Países na árvore em ordem crescente de PIB:\")\n",
        "    for pais in arvore.percurso_em_ordem():\n",
        "        print(pais)\n",
        "\n",
        "    # Buscar informações de um país\n",
        "    pais_buscar = \"Brazil\"  # Altere para o país desejado\n",
        "    resultado = arvore.buscar(pais_buscar)\n",
        "    if resultado:\n",
        "        print(f\"\\nInformações do país {pais_buscar}:\")\n",
        "        print(resultado)\n",
        "    else:\n",
        "        print(f\"\\nPaís {pais_buscar} não encontrado na árvore.\")\n",
        "\n",
        "\n",
        "if __name__ == \"__main__\":\n",
        "    main()\n"
      ],
      "metadata": {
        "id": "hrWH3HUa_z-K",
        "outputId": "0ac904e9-2c31-44c2-d803-f89ae40fa0e9",
        "colab": {
          "base_uri": "https://localhost:8080/"
        }
      },
      "execution_count": 27,
      "outputs": [
        {
          "output_type": "stream",
          "name": "stdout",
          "text": [
            "Países na árvore em ordem crescente de PIB:\n",
            "{'country': 'Barbados', 'year': 2018, 'population': 279702.0, 'gdp': 3516161024.0, 'solar_share_elec': 3.0, 'wind_share_elec': 0.0}\n",
            "{'country': 'Benin', 'year': 2018, 'population': 11940688.0, 'gdp': 26682034176.0, 'solar_share_elec': 0.0, 'wind_share_elec': 0.0}\n",
            "{'country': 'Armenia', 'year': 2018, 'population': 2836563.0, 'gdp': 33296515072.0, 'solar_share_elec': 0.271, 'wind_share_elec': 0.0}\n",
            "{'country': 'Albania', 'year': 2018, 'population': 2877019.0, 'gdp': 34009112576.0, 'solar_share_elec': 0.0, 'wind_share_elec': 0.0}\n",
            "{'country': 'Botswana', 'year': 2018, 'population': 2451411.0, 'gdp': 35844341760.0, 'solar_share_elec': 0.337, 'wind_share_elec': 0.0}\n",
            "{'country': 'Bosnia and Herzegovina', 'year': 2018, 'population': 3400132.0, 'gdp': 41286324224.0, 'solar_share_elec': 0.11, 'wind_share_elec': 0.548}\n",
            "{'country': 'Bahrain', 'year': 2018, 'population': 1487346.0, 'gdp': 62559305728.0, 'solar_share_elec': 0.036, 'wind_share_elec': 0.0}\n",
            "{'country': 'Afghanistan', 'year': 2018, 'population': 36686788.0, 'gdp': 67594969088.0, 'solar_share_elec': 3.419, 'wind_share_elec': 0.0}\n",
            "{'country': 'Bolivia', 'year': 2018, 'population': 11606906.0, 'gdp': 75704713216.0, 'solar_share_elec': 1.38, 'wind_share_elec': 0.637}\n",
            "{'country': 'Bulgaria', 'year': 2018, 'population': 7117424.0, 'gdp': 132183449600.0, 'solar_share_elec': 2.879, 'wind_share_elec': 2.836}\n",
            "{'country': 'Azerbaijan', 'year': 2018, 'population': 10152524.0, 'gdp': 160426229760.0, 'solar_share_elec': 0.168, 'wind_share_elec': 0.336}\n",
            "{'country': 'Angola', 'year': 2018, 'population': 31273538.0, 'gdp': 175929573376.0, 'solar_share_elec': 0.156, 'wind_share_elec': 0.0}\n",
            "{'country': 'Belarus', 'year': 2018, 'population': 9695573.0, 'gdp': 178435260416.0, 'solar_share_elec': 0.491, 'wind_share_elec': 0.273}\n",
            "{'country': 'Austria', 'year': 2018, 'population': 8840518.0, 'gdp': 382269456384.0, 'solar_share_elec': 2.245, 'wind_share_elec': 9.271}\n",
            "{'country': 'Belgium', 'year': 2018, 'population': 11448598.0, 'gdp': 454384320512.0, 'solar_share_elec': 5.305, 'wind_share_elec': 10.297}\n",
            "{'country': 'Algeria', 'year': 2018, 'population': 41927008.0, 'gdp': 590317551616.0, 'solar_share_elec': 0.902, 'wind_share_elec': 0.014}\n",
            "{'country': 'Bangladesh', 'year': 2018, 'population': 163683952.0, 'gdp': 686521778176.0, 'solar_share_elec': 0.379, 'wind_share_elec': 0.014}\n",
            "{'country': 'Argentina', 'year': 2018, 'population': 44413592.0, 'gdp': 829373284352.0, 'solar_share_elec': 0.079, 'wind_share_elec': 1.002}\n",
            "{'country': 'Australia', 'year': 2018, 'population': 24979228.0, 'gdp': 1238559621120.0, 'solar_share_elec': 3.966, 'wind_share_elec': 5.472}\n",
            "{'country': 'Brazil', 'year': 2018, 'population': 210166592.0, 'gdp': 2965401501696.0, 'solar_share_elec': 0.579, 'wind_share_elec': 8.099}\n",
            "\n",
            "Informações do país Brazil:\n",
            "{'country': 'Brazil', 'year': 2018, 'population': 210166592.0, 'gdp': 2965401501696.0, 'solar_share_elec': 0.579, 'wind_share_elec': 8.099}\n"
          ]
        }
      ]
    },
    {
      "cell_type": "markdown",
      "source": [
        "### **Questão 2 - Grafos**"
      ],
      "metadata": {
        "id": "xxaIJJtkq12_"
      }
    },
    {
      "cell_type": "markdown",
      "source": [
        "Localize um mapa de um sistema de transporte ferroviário ou metroviário de uma cidade. Selecione um conjunto de 10 estações, próximas uma da outra. Forneça uma representação do grafo correspondente a esse mapa como uma matriz de adjacências (a representação vista em sala).\n",
        "\n",
        "\n",
        "\n",
        "*   Envie o mapa e a representação em matriz. (10 pontos)\n",
        "*   Simule o algoritmo de cálculo de distâncias visto em sala, a partir de um dos vértices, e mostre uma lista correspondente, contendo todos os vértices visitados, e a ordem de visitação (20 pontos)\n",
        "* Simular significa mostrar os valores das variáveis a cada passo. Isso implica mostrar as distâncias conforme elas vão sendo computadas, e as variáveis auxiliares definidas pelo algoritmo\n",
        "\n",
        "\n",
        "\n",
        "\n",
        "\n",
        "\n"
      ],
      "metadata": {
        "id": "zkLFGhEYu7FE"
      }
    },
    {
      "cell_type": "markdown",
      "source": [
        "![image.png](data:image/png;base64,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)\n",
        "\n",
        "\n",
        "\n",
        "![image.png](data:image/png;base64,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)"
      ],
      "metadata": {
        "id": "lsPLpatfviKI"
      }
    },
    {
      "cell_type": "code",
      "source": [
        "# Representação da matriz de adjacências do sistema metroviário de São Paulo - Linha 1 Azul\n",
        "# Estações: Jabaquara (J), Conceição (C), São Judas (SJ), Saúde (Sa),\n",
        "# Praça da Árvore (PA), Santa Cruz (SC), Vila Mariana (VM),\n",
        "# Ana Rosa (AR), Paraíso (P), Sé (Sé)\n",
        "\n",
        "# Matriz\n",
        "matriz_adjacencia = [\n",
        "    [0, 1, 0, 0, 0, 0, 0, 0, 0, 0],  # Jabaquara\n",
        "    [1, 0, 1, 0, 0, 0, 0, 0, 0, 0],  # Conceição\n",
        "    [0, 1, 0, 1, 0, 0, 0, 0, 0, 0],  # São Judas\n",
        "    [0, 0, 1, 0, 1, 0, 0, 0, 0, 0],  # Saúde\n",
        "    [0, 0, 0, 1, 0, 1, 0, 0, 0, 0],  # Praça da Árvore\n",
        "    [0, 0, 0, 0, 1, 0, 1, 0, 0, 0],  # Santa Cruz\n",
        "    [0, 0, 0, 0, 0, 1, 0, 1, 0, 0],  # Vila Mariana\n",
        "    [0, 0, 0, 0, 0, 0, 1, 0, 1, 0],  # Ana Rosa\n",
        "    [0, 0, 0, 0, 0, 0, 0, 1, 0, 1],  # Paraíso\n",
        "    [0, 0, 0, 0, 0, 0, 0, 0, 1, 0],  # Sé\n",
        "]\n",
        "\n",
        "for linha in matriz_adjacencia:\n",
        "    print(linha)\n"
      ],
      "metadata": {
        "colab": {
          "base_uri": "https://localhost:8080/"
        },
        "id": "cj2yrxuoq9Jz",
        "outputId": "032e65f5-1357-4159-907a-37d43b64e78e"
      },
      "execution_count": null,
      "outputs": [
        {
          "output_type": "stream",
          "name": "stdout",
          "text": [
            "[0, 1, 0, 0, 0, 0, 0, 0, 0, 0]\n",
            "[1, 0, 1, 0, 0, 0, 0, 0, 0, 0]\n",
            "[0, 1, 0, 1, 0, 0, 0, 0, 0, 0]\n",
            "[0, 0, 1, 0, 1, 0, 0, 0, 0, 0]\n",
            "[0, 0, 0, 1, 0, 1, 0, 0, 0, 0]\n",
            "[0, 0, 0, 0, 1, 0, 1, 0, 0, 0]\n",
            "[0, 0, 0, 0, 0, 1, 0, 1, 0, 0]\n",
            "[0, 0, 0, 0, 0, 0, 1, 0, 1, 0]\n",
            "[0, 0, 0, 0, 0, 0, 0, 1, 0, 1]\n",
            "[0, 0, 0, 0, 0, 0, 0, 0, 1, 0]\n"
          ]
        }
      ]
    },
    {
      "cell_type": "code",
      "source": [
        "import math\n",
        "\n",
        "# Estações\n",
        "estacoes = [\"Jabaquara\", \"Conceição\", \"São Judas\", \"Saúde\", \"Praça da Árvore\",\n",
        "            \"Santa Cruz\", \"Vila Mariana\", \"Ana Rosa\", \"Paraíso\", \"Sé\"]\n",
        "\n",
        "# Matriz (distâncias)\n",
        "matriz_adjacencia = [\n",
        "    [0, 1, math.inf, math.inf, math.inf, math.inf, math.inf, math.inf, math.inf, math.inf],  # Jabaquara\n",
        "    [1, 0, 1, math.inf, math.inf, math.inf, math.inf, math.inf, math.inf, math.inf],  # Conceição\n",
        "    [math.inf, 1, 0, 1, math.inf, math.inf, math.inf, math.inf, math.inf, math.inf],  # São Judas\n",
        "    [math.inf, math.inf, 1, 0, 1, math.inf, math.inf, math.inf, math.inf, math.inf],  # Saúde\n",
        "    [math.inf, math.inf, math.inf, 1, 0, 1, math.inf, math.inf, math.inf, math.inf],  # Praça da Árvore\n",
        "    [math.inf, math.inf, math.inf, math.inf, 1, 0, 1, math.inf, math.inf, math.inf],  # Santa Cruz\n",
        "    [math.inf, math.inf, math.inf, math.inf, math.inf, 1, 0, 1, math.inf, math.inf],  # Vila Mariana\n",
        "    [math.inf, math.inf, math.inf, math.inf, math.inf, math.inf, 1, 0, 1, math.inf],  # Ana Rosa\n",
        "    [math.inf, math.inf, math.inf, math.inf, math.inf, math.inf, math.inf, 1, 0, 1],  # Paraíso\n",
        "    [math.inf, math.inf, math.inf, math.inf, math.inf, math.inf, math.inf, math.inf, 1, 0],  # Sé\n",
        "]\n",
        "\n",
        "def dijkstra(matriz, origem):\n",
        "    distancias = {estacao: math.inf for estacao in estacoes}  # Distâncias iniciais\n",
        "    distancias[origem] = 0  # Distância da origem para si mesma é 0\n",
        "    visitados = []  # Estações visitadas\n",
        "    nao_visitados = estacoes.copy()  # Estações não visitadas\n",
        "    caminho = {estacao: None for estacao in estacoes}\n",
        "\n",
        "    while nao_visitados:\n",
        "        # Escolher a estação com a menor distância\n",
        "        estacao_atual = min(nao_visitados, key=lambda estacao: distancias[estacao])\n",
        "\n",
        "        # Adicionar à lista de visitados\n",
        "        visitados.append(estacao_atual)\n",
        "        nao_visitados.remove(estacao_atual)\n",
        "\n",
        "        # Atualizar distâncias das estações vizinhas\n",
        "        for i, estacao in enumerate(estacoes):\n",
        "            if matriz[estacoes.index(estacao_atual)][i] != math.inf and estacao in nao_visitados:\n",
        "                distancia = matriz[estacoes.index(estacao_atual)][i]\n",
        "                nova_distancia = distancias[estacao_atual] + distancia\n",
        "                if nova_distancia < distancias[estacao]:\n",
        "                    distancias[estacao] = nova_distancia\n",
        "                    caminho[estacao] = estacao_atual\n",
        "\n",
        "        print(f\"Estação atual: {estacao_atual}\")\n",
        "        print(f\"Distâncias: {distancias}\")\n",
        "        print(f\"Caminho: {caminho}\")\n",
        "        print(f\"Visitados: {visitados}\")\n",
        "        print(f\"Não visitados: {nao_visitados}\")\n",
        "        print(\"-\" * 50)\n",
        "\n",
        "    return distancias, caminho\n",
        "\n",
        "# Simulação de Dijkstra a partir da estação \"Jabaquara\"\n",
        "origem = \"Jabaquara\"\n",
        "distancias, caminho = dijkstra(matriz_adjacencia, origem)\n",
        "\n",
        "# Exibir os resultados\n",
        "print(\"Distâncias finais a partir de Jabaquara:\")\n",
        "for estacao, distancia in distancias.items():\n",
        "    print(f\"{estacao}: {distancia}\")\n"
      ],
      "metadata": {
        "colab": {
          "base_uri": "https://localhost:8080/"
        },
        "id": "EbxROYQm2SRR",
        "outputId": "206f84c8-15cf-49ec-cbcd-b98939d6811d"
      },
      "execution_count": null,
      "outputs": [
        {
          "output_type": "stream",
          "name": "stdout",
          "text": [
            "Estação atual: Jabaquara\n",
            "Distâncias: {'Jabaquara': 0, 'Conceição': 1, 'São Judas': inf, 'Saúde': inf, 'Praça da Árvore': inf, 'Santa Cruz': inf, 'Vila Mariana': inf, 'Ana Rosa': inf, 'Paraíso': inf, 'Sé': inf}\n",
            "Caminho: {'Jabaquara': None, 'Conceição': 'Jabaquara', 'São Judas': None, 'Saúde': None, 'Praça da Árvore': None, 'Santa Cruz': None, 'Vila Mariana': None, 'Ana Rosa': None, 'Paraíso': None, 'Sé': None}\n",
            "Visitados: ['Jabaquara']\n",
            "Não visitados: ['Conceição', 'São Judas', 'Saúde', 'Praça da Árvore', 'Santa Cruz', 'Vila Mariana', 'Ana Rosa', 'Paraíso', 'Sé']\n",
            "--------------------------------------------------\n",
            "Estação atual: Conceição\n",
            "Distâncias: {'Jabaquara': 0, 'Conceição': 1, 'São Judas': 2, 'Saúde': inf, 'Praça da Árvore': inf, 'Santa Cruz': inf, 'Vila Mariana': inf, 'Ana Rosa': inf, 'Paraíso': inf, 'Sé': inf}\n",
            "Caminho: {'Jabaquara': None, 'Conceição': 'Jabaquara', 'São Judas': 'Conceição', 'Saúde': None, 'Praça da Árvore': None, 'Santa Cruz': None, 'Vila Mariana': None, 'Ana Rosa': None, 'Paraíso': None, 'Sé': None}\n",
            "Visitados: ['Jabaquara', 'Conceição']\n",
            "Não visitados: ['São Judas', 'Saúde', 'Praça da Árvore', 'Santa Cruz', 'Vila Mariana', 'Ana Rosa', 'Paraíso', 'Sé']\n",
            "--------------------------------------------------\n",
            "Estação atual: São Judas\n",
            "Distâncias: {'Jabaquara': 0, 'Conceição': 1, 'São Judas': 2, 'Saúde': 3, 'Praça da Árvore': inf, 'Santa Cruz': inf, 'Vila Mariana': inf, 'Ana Rosa': inf, 'Paraíso': inf, 'Sé': inf}\n",
            "Caminho: {'Jabaquara': None, 'Conceição': 'Jabaquara', 'São Judas': 'Conceição', 'Saúde': 'São Judas', 'Praça da Árvore': None, 'Santa Cruz': None, 'Vila Mariana': None, 'Ana Rosa': None, 'Paraíso': None, 'Sé': None}\n",
            "Visitados: ['Jabaquara', 'Conceição', 'São Judas']\n",
            "Não visitados: ['Saúde', 'Praça da Árvore', 'Santa Cruz', 'Vila Mariana', 'Ana Rosa', 'Paraíso', 'Sé']\n",
            "--------------------------------------------------\n",
            "Estação atual: Saúde\n",
            "Distâncias: {'Jabaquara': 0, 'Conceição': 1, 'São Judas': 2, 'Saúde': 3, 'Praça da Árvore': 4, 'Santa Cruz': inf, 'Vila Mariana': inf, 'Ana Rosa': inf, 'Paraíso': inf, 'Sé': inf}\n",
            "Caminho: {'Jabaquara': None, 'Conceição': 'Jabaquara', 'São Judas': 'Conceição', 'Saúde': 'São Judas', 'Praça da Árvore': 'Saúde', 'Santa Cruz': None, 'Vila Mariana': None, 'Ana Rosa': None, 'Paraíso': None, 'Sé': None}\n",
            "Visitados: ['Jabaquara', 'Conceição', 'São Judas', 'Saúde']\n",
            "Não visitados: ['Praça da Árvore', 'Santa Cruz', 'Vila Mariana', 'Ana Rosa', 'Paraíso', 'Sé']\n",
            "--------------------------------------------------\n",
            "Estação atual: Praça da Árvore\n",
            "Distâncias: {'Jabaquara': 0, 'Conceição': 1, 'São Judas': 2, 'Saúde': 3, 'Praça da Árvore': 4, 'Santa Cruz': 5, 'Vila Mariana': inf, 'Ana Rosa': inf, 'Paraíso': inf, 'Sé': inf}\n",
            "Caminho: {'Jabaquara': None, 'Conceição': 'Jabaquara', 'São Judas': 'Conceição', 'Saúde': 'São Judas', 'Praça da Árvore': 'Saúde', 'Santa Cruz': 'Praça da Árvore', 'Vila Mariana': None, 'Ana Rosa': None, 'Paraíso': None, 'Sé': None}\n",
            "Visitados: ['Jabaquara', 'Conceição', 'São Judas', 'Saúde', 'Praça da Árvore']\n",
            "Não visitados: ['Santa Cruz', 'Vila Mariana', 'Ana Rosa', 'Paraíso', 'Sé']\n",
            "--------------------------------------------------\n",
            "Estação atual: Santa Cruz\n",
            "Distâncias: {'Jabaquara': 0, 'Conceição': 1, 'São Judas': 2, 'Saúde': 3, 'Praça da Árvore': 4, 'Santa Cruz': 5, 'Vila Mariana': 6, 'Ana Rosa': inf, 'Paraíso': inf, 'Sé': inf}\n",
            "Caminho: {'Jabaquara': None, 'Conceição': 'Jabaquara', 'São Judas': 'Conceição', 'Saúde': 'São Judas', 'Praça da Árvore': 'Saúde', 'Santa Cruz': 'Praça da Árvore', 'Vila Mariana': 'Santa Cruz', 'Ana Rosa': None, 'Paraíso': None, 'Sé': None}\n",
            "Visitados: ['Jabaquara', 'Conceição', 'São Judas', 'Saúde', 'Praça da Árvore', 'Santa Cruz']\n",
            "Não visitados: ['Vila Mariana', 'Ana Rosa', 'Paraíso', 'Sé']\n",
            "--------------------------------------------------\n",
            "Estação atual: Vila Mariana\n",
            "Distâncias: {'Jabaquara': 0, 'Conceição': 1, 'São Judas': 2, 'Saúde': 3, 'Praça da Árvore': 4, 'Santa Cruz': 5, 'Vila Mariana': 6, 'Ana Rosa': 7, 'Paraíso': inf, 'Sé': inf}\n",
            "Caminho: {'Jabaquara': None, 'Conceição': 'Jabaquara', 'São Judas': 'Conceição', 'Saúde': 'São Judas', 'Praça da Árvore': 'Saúde', 'Santa Cruz': 'Praça da Árvore', 'Vila Mariana': 'Santa Cruz', 'Ana Rosa': 'Vila Mariana', 'Paraíso': None, 'Sé': None}\n",
            "Visitados: ['Jabaquara', 'Conceição', 'São Judas', 'Saúde', 'Praça da Árvore', 'Santa Cruz', 'Vila Mariana']\n",
            "Não visitados: ['Ana Rosa', 'Paraíso', 'Sé']\n",
            "--------------------------------------------------\n",
            "Estação atual: Ana Rosa\n",
            "Distâncias: {'Jabaquara': 0, 'Conceição': 1, 'São Judas': 2, 'Saúde': 3, 'Praça da Árvore': 4, 'Santa Cruz': 5, 'Vila Mariana': 6, 'Ana Rosa': 7, 'Paraíso': 8, 'Sé': inf}\n",
            "Caminho: {'Jabaquara': None, 'Conceição': 'Jabaquara', 'São Judas': 'Conceição', 'Saúde': 'São Judas', 'Praça da Árvore': 'Saúde', 'Santa Cruz': 'Praça da Árvore', 'Vila Mariana': 'Santa Cruz', 'Ana Rosa': 'Vila Mariana', 'Paraíso': 'Ana Rosa', 'Sé': None}\n",
            "Visitados: ['Jabaquara', 'Conceição', 'São Judas', 'Saúde', 'Praça da Árvore', 'Santa Cruz', 'Vila Mariana', 'Ana Rosa']\n",
            "Não visitados: ['Paraíso', 'Sé']\n",
            "--------------------------------------------------\n",
            "Estação atual: Paraíso\n",
            "Distâncias: {'Jabaquara': 0, 'Conceição': 1, 'São Judas': 2, 'Saúde': 3, 'Praça da Árvore': 4, 'Santa Cruz': 5, 'Vila Mariana': 6, 'Ana Rosa': 7, 'Paraíso': 8, 'Sé': 9}\n",
            "Caminho: {'Jabaquara': None, 'Conceição': 'Jabaquara', 'São Judas': 'Conceição', 'Saúde': 'São Judas', 'Praça da Árvore': 'Saúde', 'Santa Cruz': 'Praça da Árvore', 'Vila Mariana': 'Santa Cruz', 'Ana Rosa': 'Vila Mariana', 'Paraíso': 'Ana Rosa', 'Sé': 'Paraíso'}\n",
            "Visitados: ['Jabaquara', 'Conceição', 'São Judas', 'Saúde', 'Praça da Árvore', 'Santa Cruz', 'Vila Mariana', 'Ana Rosa', 'Paraíso']\n",
            "Não visitados: ['Sé']\n",
            "--------------------------------------------------\n",
            "Estação atual: Sé\n",
            "Distâncias: {'Jabaquara': 0, 'Conceição': 1, 'São Judas': 2, 'Saúde': 3, 'Praça da Árvore': 4, 'Santa Cruz': 5, 'Vila Mariana': 6, 'Ana Rosa': 7, 'Paraíso': 8, 'Sé': 9}\n",
            "Caminho: {'Jabaquara': None, 'Conceição': 'Jabaquara', 'São Judas': 'Conceição', 'Saúde': 'São Judas', 'Praça da Árvore': 'Saúde', 'Santa Cruz': 'Praça da Árvore', 'Vila Mariana': 'Santa Cruz', 'Ana Rosa': 'Vila Mariana', 'Paraíso': 'Ana Rosa', 'Sé': 'Paraíso'}\n",
            "Visitados: ['Jabaquara', 'Conceição', 'São Judas', 'Saúde', 'Praça da Árvore', 'Santa Cruz', 'Vila Mariana', 'Ana Rosa', 'Paraíso', 'Sé']\n",
            "Não visitados: []\n",
            "--------------------------------------------------\n",
            "Distâncias finais a partir de Jabaquara:\n",
            "Jabaquara: 0\n",
            "Conceição: 1\n",
            "São Judas: 2\n",
            "Saúde: 3\n",
            "Praça da Árvore: 4\n",
            "Santa Cruz: 5\n",
            "Vila Mariana: 6\n",
            "Ana Rosa: 7\n",
            "Paraíso: 8\n",
            "Sé: 9\n"
          ]
        }
      ]
    },
    {
      "cell_type": "markdown",
      "source": [
        "### **Questão 3 - O grande**"
      ],
      "metadata": {
        "id": "Bpj8Etuq2tJd"
      }
    },
    {
      "cell_type": "markdown",
      "source": [
        "Exiba duas funções para resolver um mesmo problema, cada uma com uma complexidade (O grande) diferente. Quais essas complexidades? Sinalize qual das duas, se implementada, corresponderá a um consumo energético maior, ao ser executada com listas (ou qual for a entrada adequada) de tamanho 1000. Qual será a proporção entre esses dois consumos?"
      ],
      "metadata": {
        "id": "DMGTvqqV3ob6"
      }
    },
    {
      "cell_type": "markdown",
      "source": [
        "**Função 1**"
      ],
      "metadata": {
        "id": "LCWzzs974s7P"
      }
    },
    {
      "cell_type": "code",
      "source": [
        "# Função com complexidade O(n^2)\n",
        "def encontrar_maior_quadratico(numeros):\n",
        "    for i in range(len(numeros)):\n",
        "        eh_maior = True\n",
        "        for j in range(len(numeros)):\n",
        "            if numeros[j] > numeros[i]:\n",
        "                eh_maior = False\n",
        "                break\n",
        "        if eh_maior:\n",
        "            return numeros[i]"
      ],
      "metadata": {
        "id": "QQxcISyp28gP"
      },
      "execution_count": null,
      "outputs": []
    },
    {
      "cell_type": "markdown",
      "source": [
        "**Função 2**"
      ],
      "metadata": {
        "id": "sdB_tGNf41QP"
      }
    },
    {
      "cell_type": "code",
      "source": [
        "# Função com complexidade O(n)\n",
        "def encontrar_maior_linear(numeros):\n",
        "    maior_numero = numeros[0]\n",
        "    for numero in numeros:\n",
        "        if numero > maior_numero:\n",
        "            maior_numero = numero\n",
        "    return maior_numero"
      ],
      "metadata": {
        "id": "DSvt0Tex43aH"
      },
      "execution_count": null,
      "outputs": []
    },
    {
      "cell_type": "markdown",
      "source": [
        "**Consumo maior**"
      ],
      "metadata": {
        "id": "ZbPjKtWHAOZT"
      }
    },
    {
      "cell_type": "code",
      "source": [
        "def contar_operacoes_quadratico(numeros):\n",
        "    operacoes = 0\n",
        "    for i in range(len(numeros)):\n",
        "        for j in range(len(numeros)):\n",
        "            operacoes += 1  # Conta cada comparação no loop\n",
        "    return operacoes\n",
        "\n",
        "def contar_operacoes_linear(numeros):\n",
        "    operacoes = 0\n",
        "    for numero in numeros:\n",
        "        operacoes += 1  # Conta cada comparação no loop\n",
        "    return operacoes\n",
        "\n",
        "# Lista de exemplo com 1000 elementos\n",
        "numeros = list(range(1000))\n",
        "\n",
        "# Contar operações para cada função\n",
        "operacoes_quadratico = contar_operacoes_quadratico(numeros)\n",
        "operacoes_linear = contar_operacoes_linear(numeros)\n",
        "\n",
        "print(\"Operações na função quadrática (O(n^2)):\", operacoes_quadratico)\n",
        "print(\"Operações na função linear (O(n)):\", operacoes_linear)\n",
        "\n",
        "if operacoes_quadratico > operacoes_linear:\n",
        "    print(\"A função quadrática consome mais energia.\")\n",
        "else:\n",
        "    print(\"A função linear consome mais energia.\")\n"
      ],
      "metadata": {
        "colab": {
          "base_uri": "https://localhost:8080/"
        },
        "id": "Z9WGk9Xw-Zma",
        "outputId": "64f4fae9-1909-4d48-9884-43b5038164b2"
      },
      "execution_count": null,
      "outputs": [
        {
          "output_type": "stream",
          "name": "stdout",
          "text": [
            "Operações na função quadrática (O(n^2)): 1000000\n",
            "Operações na função linear (O(n)): 1000\n",
            "A função quadrática consome mais energia.\n"
          ]
        }
      ]
    },
    {
      "cell_type": "markdown",
      "source": [
        "**Proporção entre os consumos**"
      ],
      "metadata": {
        "id": "xdiH6BM_Ag21"
      }
    },
    {
      "cell_type": "code",
      "source": [
        "def contar_operacoes_quadratico(numeros):\n",
        "    operacoes = 0\n",
        "    for i in range(len(numeros)):\n",
        "        for j in range(len(numeros)):\n",
        "            operacoes += 1  # Conta cada comparação no loop\n",
        "    return operacoes\n",
        "\n",
        "def contar_operacoes_linear(numeros):\n",
        "    operacoes = 0\n",
        "    for numero in numeros:\n",
        "        operacoes += 1  # Conta cada comparação no loop\n",
        "    return operacoes\n",
        "\n",
        "# Lista de exemplo com 1000 elementos\n",
        "numeros = list(range(1000))\n",
        "\n",
        "# Contar operações para cada função\n",
        "operacoes_quadratico = contar_operacoes_quadratico(numeros)\n",
        "operacoes_linear = contar_operacoes_linear(numeros)\n",
        "\n",
        "# Calcular a proporção\n",
        "proporcao = operacoes_quadratico / operacoes_linear\n",
        "\n",
        "print(\"Operações na função quadrática (O(n^2)):\", operacoes_quadratico)\n",
        "print(\"Operações na função linear (O(n)):\", operacoes_linear)\n",
        "print(\"Proporção entre os consumos (quadrático / linear):\", proporcao)\n"
      ],
      "metadata": {
        "colab": {
          "base_uri": "https://localhost:8080/"
        },
        "id": "tQazW0KPAgCe",
        "outputId": "c0874821-5419-4aff-c9e7-f2cdb38b8b8c"
      },
      "execution_count": null,
      "outputs": [
        {
          "output_type": "stream",
          "name": "stdout",
          "text": [
            "Operações na função quadrática (O(n^2)): 1000000\n",
            "Operações na função linear (O(n)): 1000\n",
            "Proporção entre os consumos (quadrático / linear): 1000.0\n"
          ]
        }
      ]
    }
  ]
}